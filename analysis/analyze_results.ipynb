{
 "cells": [
  {
   "cell_type": "code",
   "execution_count": 1,
   "metadata": {},
   "outputs": [],
   "source": [
    "import pandas as pd"
   ]
  },
  {
   "cell_type": "code",
   "execution_count": 2,
   "metadata": {},
   "outputs": [
    {
     "name": "stdout",
     "output_type": "stream",
     "text": [
      "                              URL  Script Count   Status\n",
      "0         https://foursquare.com/          11.0  Success\n",
      "1               https://vice.com/          24.0  Success\n",
      "2    https://urbandictionary.com/          18.0  Success\n",
      "3          https://disney.go.com/           1.0  Success\n",
      "4             https://medium.com/          15.0  Success\n",
      "..                            ...           ...      ...\n",
      "498             https://ikea.com/          16.0  Success\n",
      "499  https://photos1.blogger.com/           NaN   Failed\n",
      "500         https://usatoday.com/          18.0  Success\n",
      "501         https://sakura.ne.jp/           9.0  Success\n",
      "502           https://usnews.com/           NaN   Failed\n",
      "\n",
      "[503 rows x 3 columns]\n"
     ]
    }
   ],
   "source": [
    "# Load the CSV file\n",
    "df = pd.read_csv('results.csv')\n",
    "\n",
    "# Display the DataFrame\n",
    "print(df)\n"
   ]
  },
  {
   "cell_type": "code",
   "execution_count": 3,
   "metadata": {},
   "outputs": [],
   "source": [
    "# Convert 'Script Count' to numeric, if not already\n",
    "df['Script Count'] = pd.to_numeric(df['Script Count'], errors='coerce')\n"
   ]
  },
  {
   "cell_type": "code",
   "execution_count": 4,
   "metadata": {},
   "outputs": [],
   "source": [
    "# Filter rows where Status is 'Success'\n",
    "success_df = df[df['Status'] == 'Success'].copy()\n"
   ]
  },
  {
   "cell_type": "code",
   "execution_count": 5,
   "metadata": {},
   "outputs": [
    {
     "name": "stdout",
     "output_type": "stream",
     "text": [
      "Average number of <script> tags: 26.256594724220623\n"
     ]
    }
   ],
   "source": [
    "# Calculate the average number of <script> tags\n",
    "average_scripts = success_df['Script Count'].mean()\n",
    "print(f\"Average number of <script> tags: {average_scripts}\")\n"
   ]
  },
  {
   "cell_type": "code",
   "execution_count": 6,
   "metadata": {},
   "outputs": [
    {
     "name": "stdout",
     "output_type": "stream",
     "text": [
      "URL with the maximum <script> tags (212.0): https://thetimes.co.uk/\n"
     ]
    }
   ],
   "source": [
    "# Find the URL with the maximum number of <script> tags\n",
    "max_scripts = success_df['Script Count'].max()\n",
    "max_script_url = success_df.loc[success_df['Script Count'] == max_scripts, 'URL'].values[0]\n",
    "print(f\"URL with the maximum <script> tags ({max_scripts}): {max_script_url}\")\n"
   ]
  }
 ],
 "metadata": {
  "kernelspec": {
   "display_name": "Python 3",
   "language": "python",
   "name": "python3"
  },
  "language_info": {
   "codemirror_mode": {
    "name": "ipython",
    "version": 3
   },
   "file_extension": ".py",
   "mimetype": "text/x-python",
   "name": "python",
   "nbconvert_exporter": "python",
   "pygments_lexer": "ipython3",
   "version": "3.11.6"
  }
 },
 "nbformat": 4,
 "nbformat_minor": 2
}
