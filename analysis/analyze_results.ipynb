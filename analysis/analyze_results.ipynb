{
 "cells": [
  {
   "cell_type": "code",
   "execution_count": 12,
   "metadata": {},
   "outputs": [],
   "source": [
    "import pandas as pd"
   ]
  },
  {
   "cell_type": "code",
   "execution_count": 13,
   "metadata": {},
   "outputs": [
    {
     "name": "stdout",
     "output_type": "stream",
     "text": [
      "                              URL  Script Count   Status\n",
      "0              https://ytimg.com/           NaN   Failed\n",
      "1    https://urbandictionary.com/          18.0  Success\n",
      "2       https://de.wikipedia.org/           4.0  Success\n",
      "3                https://rtve.es/           6.0  Success\n",
      "4                https://cnn.com/          12.0  Success\n",
      "..                            ...           ...      ...\n",
      "498        https://rakuten.co.jp/          68.0  Success\n",
      "499          https://xfinity.com/          48.0  Success\n",
      "500          https://nbcnews.com/          44.0  Success\n",
      "501        https://billboard.com/         130.0  Success\n",
      "502             https://asus.com/           NaN   Failed\n",
      "\n",
      "[503 rows x 3 columns]\n"
     ]
    }
   ],
   "source": [
    "# loads the CSV file\n",
    "df = pd.read_csv('/Users/borjagonzalez/Desktop/Bynder/url_checker_assignment/data/results.csv')\n",
    "\n",
    "print(df)\n"
   ]
  },
  {
   "cell_type": "code",
   "execution_count": 8,
   "metadata": {},
   "outputs": [],
   "source": [
    "df['Script Count'] = pd.to_numeric(df['Script Count'], errors='coerce')\n"
   ]
  },
  {
   "cell_type": "code",
   "execution_count": 9,
   "metadata": {},
   "outputs": [],
   "source": [
    "# filters rows where Status is 'Success'\n",
    "success_df = df[df['Status'] == 'Success'].copy()\n"
   ]
  },
  {
   "cell_type": "code",
   "execution_count": 10,
   "metadata": {},
   "outputs": [
    {
     "name": "stdout",
     "output_type": "stream",
     "text": [
      "Average number of <script> tags: 26.31924882629108\n"
     ]
    }
   ],
   "source": [
    "# calculates the average number of <script> tags\n",
    "average_scripts = success_df['Script Count'].mean()\n",
    "print(f\"Average number of <script> tags: {average_scripts}\")\n"
   ]
  },
  {
   "cell_type": "code",
   "execution_count": 11,
   "metadata": {},
   "outputs": [
    {
     "name": "stdout",
     "output_type": "stream",
     "text": [
      "URL with the maximum <script> tags (212.0): https://thetimes.co.uk/\n"
     ]
    }
   ],
   "source": [
    "# finds the URL with the maximum number of <script> tags\n",
    "max_scripts = success_df['Script Count'].max()\n",
    "max_script_url = success_df.loc[success_df['Script Count'] == max_scripts, 'URL'].values[0]\n",
    "print(f\"URL with the maximum <script> tags ({max_scripts}): {max_script_url}\")\n"
   ]
  }
 ],
 "metadata": {
  "kernelspec": {
   "display_name": "Python 3",
   "language": "python",
   "name": "python3"
  },
  "language_info": {
   "codemirror_mode": {
    "name": "ipython",
    "version": 3
   },
   "file_extension": ".py",
   "mimetype": "text/x-python",
   "name": "python",
   "nbconvert_exporter": "python",
   "pygments_lexer": "ipython3",
   "version": "3.11.6"
  }
 },
 "nbformat": 4,
 "nbformat_minor": 2
}
